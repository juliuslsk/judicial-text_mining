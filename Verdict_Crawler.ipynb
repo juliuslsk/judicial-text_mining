{
 "cells": [
  {
   "cell_type": "code",
   "execution_count": 72,
   "metadata": {},
   "outputs": [],
   "source": [
    "# pip install selenium\n",
    "# pip install BeautifulSoup"
   ]
  },
  {
   "cell_type": "code",
   "execution_count": 1,
   "metadata": {},
   "outputs": [],
   "source": [
    "from selenium import webdriver\n",
    "from bs4 import BeautifulSoup\n",
    "import pandas as pd"
   ]
  },
  {
   "cell_type": "code",
   "execution_count": 2,
   "metadata": {},
   "outputs": [],
   "source": [
    "title_col = []\n",
    "maintext_col = []"
   ]
  },
  {
   "cell_type": "code",
   "execution_count": 5,
   "metadata": {},
   "outputs": [
    {
     "ename": "KeyboardInterrupt",
     "evalue": "",
     "output_type": "error",
     "traceback": [
      "\u001b[1;31m---------------------------------------------------------------------------\u001b[0m",
      "\u001b[1;31mKeyboardInterrupt\u001b[0m                         Traceback (most recent call last)",
      "\u001b[1;32m<ipython-input-5-a3a3e2ba8123>\u001b[0m in \u001b[0;36m<module>\u001b[1;34m\u001b[0m\n\u001b[0;32m     14\u001b[0m         \u001b[0msoup_panel\u001b[0m \u001b[1;33m=\u001b[0m \u001b[0mBeautifulSoup\u001b[0m\u001b[1;33m(\u001b[0m\u001b[0mdriver\u001b[0m\u001b[1;33m.\u001b[0m\u001b[0mpage_source\u001b[0m\u001b[1;33m,\u001b[0m \u001b[1;34m'lxml'\u001b[0m\u001b[1;33m)\u001b[0m\u001b[1;33m\u001b[0m\u001b[1;33m\u001b[0m\u001b[0m\n\u001b[0;32m     15\u001b[0m         \u001b[0mmaintext_col\u001b[0m\u001b[1;33m.\u001b[0m\u001b[0mappend\u001b[0m\u001b[1;33m(\u001b[0m\u001b[0msoup_panel\u001b[0m\u001b[1;33m)\u001b[0m\u001b[1;33m\u001b[0m\u001b[1;33m\u001b[0m\u001b[0m\n\u001b[1;32m---> 16\u001b[1;33m         \u001b[0mdriver\u001b[0m\u001b[1;33m.\u001b[0m\u001b[0mback\u001b[0m\u001b[1;33m(\u001b[0m\u001b[1;33m)\u001b[0m\u001b[1;33m\u001b[0m\u001b[1;33m\u001b[0m\u001b[0m\n\u001b[0m\u001b[0;32m     17\u001b[0m \u001b[1;33m\u001b[0m\u001b[0m\n\u001b[0;32m     18\u001b[0m     \u001b[1;32mtry\u001b[0m\u001b[1;33m:\u001b[0m\u001b[1;33m\u001b[0m\u001b[1;33m\u001b[0m\u001b[0m\n",
      "\u001b[1;32mD:\\Anaconda\\lib\\site-packages\\selenium\\webdriver\\remote\\webdriver.py\u001b[0m in \u001b[0;36mback\u001b[1;34m(self)\u001b[0m\n\u001b[0;32m    811\u001b[0m             \u001b[0mdriver\u001b[0m\u001b[1;33m.\u001b[0m\u001b[0mback\u001b[0m\u001b[1;33m(\u001b[0m\u001b[1;33m)\u001b[0m\u001b[1;33m\u001b[0m\u001b[1;33m\u001b[0m\u001b[0m\n\u001b[0;32m    812\u001b[0m         \"\"\"\n\u001b[1;32m--> 813\u001b[1;33m         \u001b[0mself\u001b[0m\u001b[1;33m.\u001b[0m\u001b[0mexecute\u001b[0m\u001b[1;33m(\u001b[0m\u001b[0mCommand\u001b[0m\u001b[1;33m.\u001b[0m\u001b[0mGO_BACK\u001b[0m\u001b[1;33m)\u001b[0m\u001b[1;33m\u001b[0m\u001b[1;33m\u001b[0m\u001b[0m\n\u001b[0m\u001b[0;32m    814\u001b[0m \u001b[1;33m\u001b[0m\u001b[0m\n\u001b[0;32m    815\u001b[0m     \u001b[1;32mdef\u001b[0m \u001b[0mforward\u001b[0m\u001b[1;33m(\u001b[0m\u001b[0mself\u001b[0m\u001b[1;33m)\u001b[0m\u001b[1;33m:\u001b[0m\u001b[1;33m\u001b[0m\u001b[1;33m\u001b[0m\u001b[0m\n",
      "\u001b[1;32mD:\\Anaconda\\lib\\site-packages\\selenium\\webdriver\\remote\\webdriver.py\u001b[0m in \u001b[0;36mexecute\u001b[1;34m(self, driver_command, params)\u001b[0m\n\u001b[0;32m    317\u001b[0m \u001b[1;33m\u001b[0m\u001b[0m\n\u001b[0;32m    318\u001b[0m         \u001b[0mparams\u001b[0m \u001b[1;33m=\u001b[0m \u001b[0mself\u001b[0m\u001b[1;33m.\u001b[0m\u001b[0m_wrap_value\u001b[0m\u001b[1;33m(\u001b[0m\u001b[0mparams\u001b[0m\u001b[1;33m)\u001b[0m\u001b[1;33m\u001b[0m\u001b[1;33m\u001b[0m\u001b[0m\n\u001b[1;32m--> 319\u001b[1;33m         \u001b[0mresponse\u001b[0m \u001b[1;33m=\u001b[0m \u001b[0mself\u001b[0m\u001b[1;33m.\u001b[0m\u001b[0mcommand_executor\u001b[0m\u001b[1;33m.\u001b[0m\u001b[0mexecute\u001b[0m\u001b[1;33m(\u001b[0m\u001b[0mdriver_command\u001b[0m\u001b[1;33m,\u001b[0m \u001b[0mparams\u001b[0m\u001b[1;33m)\u001b[0m\u001b[1;33m\u001b[0m\u001b[1;33m\u001b[0m\u001b[0m\n\u001b[0m\u001b[0;32m    320\u001b[0m         \u001b[1;32mif\u001b[0m \u001b[0mresponse\u001b[0m\u001b[1;33m:\u001b[0m\u001b[1;33m\u001b[0m\u001b[1;33m\u001b[0m\u001b[0m\n\u001b[0;32m    321\u001b[0m             \u001b[0mself\u001b[0m\u001b[1;33m.\u001b[0m\u001b[0merror_handler\u001b[0m\u001b[1;33m.\u001b[0m\u001b[0mcheck_response\u001b[0m\u001b[1;33m(\u001b[0m\u001b[0mresponse\u001b[0m\u001b[1;33m)\u001b[0m\u001b[1;33m\u001b[0m\u001b[1;33m\u001b[0m\u001b[0m\n",
      "\u001b[1;32mD:\\Anaconda\\lib\\site-packages\\selenium\\webdriver\\remote\\remote_connection.py\u001b[0m in \u001b[0;36mexecute\u001b[1;34m(self, command, params)\u001b[0m\n\u001b[0;32m    372\u001b[0m         \u001b[0mdata\u001b[0m \u001b[1;33m=\u001b[0m \u001b[0mutils\u001b[0m\u001b[1;33m.\u001b[0m\u001b[0mdump_json\u001b[0m\u001b[1;33m(\u001b[0m\u001b[0mparams\u001b[0m\u001b[1;33m)\u001b[0m\u001b[1;33m\u001b[0m\u001b[1;33m\u001b[0m\u001b[0m\n\u001b[0;32m    373\u001b[0m         \u001b[0murl\u001b[0m \u001b[1;33m=\u001b[0m \u001b[1;34m'%s%s'\u001b[0m \u001b[1;33m%\u001b[0m \u001b[1;33m(\u001b[0m\u001b[0mself\u001b[0m\u001b[1;33m.\u001b[0m\u001b[0m_url\u001b[0m\u001b[1;33m,\u001b[0m \u001b[0mpath\u001b[0m\u001b[1;33m)\u001b[0m\u001b[1;33m\u001b[0m\u001b[1;33m\u001b[0m\u001b[0m\n\u001b[1;32m--> 374\u001b[1;33m         \u001b[1;32mreturn\u001b[0m \u001b[0mself\u001b[0m\u001b[1;33m.\u001b[0m\u001b[0m_request\u001b[0m\u001b[1;33m(\u001b[0m\u001b[0mcommand_info\u001b[0m\u001b[1;33m[\u001b[0m\u001b[1;36m0\u001b[0m\u001b[1;33m]\u001b[0m\u001b[1;33m,\u001b[0m \u001b[0murl\u001b[0m\u001b[1;33m,\u001b[0m \u001b[0mbody\u001b[0m\u001b[1;33m=\u001b[0m\u001b[0mdata\u001b[0m\u001b[1;33m)\u001b[0m\u001b[1;33m\u001b[0m\u001b[1;33m\u001b[0m\u001b[0m\n\u001b[0m\u001b[0;32m    375\u001b[0m \u001b[1;33m\u001b[0m\u001b[0m\n\u001b[0;32m    376\u001b[0m     \u001b[1;32mdef\u001b[0m \u001b[0m_request\u001b[0m\u001b[1;33m(\u001b[0m\u001b[0mself\u001b[0m\u001b[1;33m,\u001b[0m \u001b[0mmethod\u001b[0m\u001b[1;33m,\u001b[0m \u001b[0murl\u001b[0m\u001b[1;33m,\u001b[0m \u001b[0mbody\u001b[0m\u001b[1;33m=\u001b[0m\u001b[1;32mNone\u001b[0m\u001b[1;33m)\u001b[0m\u001b[1;33m:\u001b[0m\u001b[1;33m\u001b[0m\u001b[1;33m\u001b[0m\u001b[0m\n",
      "\u001b[1;32mD:\\Anaconda\\lib\\site-packages\\selenium\\webdriver\\remote\\remote_connection.py\u001b[0m in \u001b[0;36m_request\u001b[1;34m(self, method, url, body)\u001b[0m\n\u001b[0;32m    395\u001b[0m \u001b[1;33m\u001b[0m\u001b[0m\n\u001b[0;32m    396\u001b[0m         \u001b[1;32mif\u001b[0m \u001b[0mself\u001b[0m\u001b[1;33m.\u001b[0m\u001b[0mkeep_alive\u001b[0m\u001b[1;33m:\u001b[0m\u001b[1;33m\u001b[0m\u001b[1;33m\u001b[0m\u001b[0m\n\u001b[1;32m--> 397\u001b[1;33m             \u001b[0mresp\u001b[0m \u001b[1;33m=\u001b[0m \u001b[0mself\u001b[0m\u001b[1;33m.\u001b[0m\u001b[0m_conn\u001b[0m\u001b[1;33m.\u001b[0m\u001b[0mrequest\u001b[0m\u001b[1;33m(\u001b[0m\u001b[0mmethod\u001b[0m\u001b[1;33m,\u001b[0m \u001b[0murl\u001b[0m\u001b[1;33m,\u001b[0m \u001b[0mbody\u001b[0m\u001b[1;33m=\u001b[0m\u001b[0mbody\u001b[0m\u001b[1;33m,\u001b[0m \u001b[0mheaders\u001b[0m\u001b[1;33m=\u001b[0m\u001b[0mheaders\u001b[0m\u001b[1;33m)\u001b[0m\u001b[1;33m\u001b[0m\u001b[1;33m\u001b[0m\u001b[0m\n\u001b[0m\u001b[0;32m    398\u001b[0m \u001b[1;33m\u001b[0m\u001b[0m\n\u001b[0;32m    399\u001b[0m             \u001b[0mstatuscode\u001b[0m \u001b[1;33m=\u001b[0m \u001b[0mresp\u001b[0m\u001b[1;33m.\u001b[0m\u001b[0mstatus\u001b[0m\u001b[1;33m\u001b[0m\u001b[1;33m\u001b[0m\u001b[0m\n",
      "\u001b[1;32mD:\\Anaconda\\lib\\site-packages\\urllib3\\request.py\u001b[0m in \u001b[0;36mrequest\u001b[1;34m(self, method, url, fields, headers, **urlopen_kw)\u001b[0m\n\u001b[0;32m     77\u001b[0m             )\n\u001b[0;32m     78\u001b[0m         \u001b[1;32melse\u001b[0m\u001b[1;33m:\u001b[0m\u001b[1;33m\u001b[0m\u001b[1;33m\u001b[0m\u001b[0m\n\u001b[1;32m---> 79\u001b[1;33m             return self.request_encode_body(\n\u001b[0m\u001b[0;32m     80\u001b[0m                 \u001b[0mmethod\u001b[0m\u001b[1;33m,\u001b[0m \u001b[0murl\u001b[0m\u001b[1;33m,\u001b[0m \u001b[0mfields\u001b[0m\u001b[1;33m=\u001b[0m\u001b[0mfields\u001b[0m\u001b[1;33m,\u001b[0m \u001b[0mheaders\u001b[0m\u001b[1;33m=\u001b[0m\u001b[0mheaders\u001b[0m\u001b[1;33m,\u001b[0m \u001b[1;33m**\u001b[0m\u001b[0murlopen_kw\u001b[0m\u001b[1;33m\u001b[0m\u001b[1;33m\u001b[0m\u001b[0m\n\u001b[0;32m     81\u001b[0m             )\n",
      "\u001b[1;32mD:\\Anaconda\\lib\\site-packages\\urllib3\\request.py\u001b[0m in \u001b[0;36mrequest_encode_body\u001b[1;34m(self, method, url, fields, headers, encode_multipart, multipart_boundary, **urlopen_kw)\u001b[0m\n\u001b[0;32m    169\u001b[0m         \u001b[0mextra_kw\u001b[0m\u001b[1;33m.\u001b[0m\u001b[0mupdate\u001b[0m\u001b[1;33m(\u001b[0m\u001b[0murlopen_kw\u001b[0m\u001b[1;33m)\u001b[0m\u001b[1;33m\u001b[0m\u001b[1;33m\u001b[0m\u001b[0m\n\u001b[0;32m    170\u001b[0m \u001b[1;33m\u001b[0m\u001b[0m\n\u001b[1;32m--> 171\u001b[1;33m         \u001b[1;32mreturn\u001b[0m \u001b[0mself\u001b[0m\u001b[1;33m.\u001b[0m\u001b[0murlopen\u001b[0m\u001b[1;33m(\u001b[0m\u001b[0mmethod\u001b[0m\u001b[1;33m,\u001b[0m \u001b[0murl\u001b[0m\u001b[1;33m,\u001b[0m \u001b[1;33m**\u001b[0m\u001b[0mextra_kw\u001b[0m\u001b[1;33m)\u001b[0m\u001b[1;33m\u001b[0m\u001b[1;33m\u001b[0m\u001b[0m\n\u001b[0m",
      "\u001b[1;32mD:\\Anaconda\\lib\\site-packages\\urllib3\\poolmanager.py\u001b[0m in \u001b[0;36murlopen\u001b[1;34m(self, method, url, redirect, **kw)\u001b[0m\n\u001b[0;32m    334\u001b[0m             \u001b[0mresponse\u001b[0m \u001b[1;33m=\u001b[0m \u001b[0mconn\u001b[0m\u001b[1;33m.\u001b[0m\u001b[0murlopen\u001b[0m\u001b[1;33m(\u001b[0m\u001b[0mmethod\u001b[0m\u001b[1;33m,\u001b[0m \u001b[0murl\u001b[0m\u001b[1;33m,\u001b[0m \u001b[1;33m**\u001b[0m\u001b[0mkw\u001b[0m\u001b[1;33m)\u001b[0m\u001b[1;33m\u001b[0m\u001b[1;33m\u001b[0m\u001b[0m\n\u001b[0;32m    335\u001b[0m         \u001b[1;32melse\u001b[0m\u001b[1;33m:\u001b[0m\u001b[1;33m\u001b[0m\u001b[1;33m\u001b[0m\u001b[0m\n\u001b[1;32m--> 336\u001b[1;33m             \u001b[0mresponse\u001b[0m \u001b[1;33m=\u001b[0m \u001b[0mconn\u001b[0m\u001b[1;33m.\u001b[0m\u001b[0murlopen\u001b[0m\u001b[1;33m(\u001b[0m\u001b[0mmethod\u001b[0m\u001b[1;33m,\u001b[0m \u001b[0mu\u001b[0m\u001b[1;33m.\u001b[0m\u001b[0mrequest_uri\u001b[0m\u001b[1;33m,\u001b[0m \u001b[1;33m**\u001b[0m\u001b[0mkw\u001b[0m\u001b[1;33m)\u001b[0m\u001b[1;33m\u001b[0m\u001b[1;33m\u001b[0m\u001b[0m\n\u001b[0m\u001b[0;32m    337\u001b[0m \u001b[1;33m\u001b[0m\u001b[0m\n\u001b[0;32m    338\u001b[0m         \u001b[0mredirect_location\u001b[0m \u001b[1;33m=\u001b[0m \u001b[0mredirect\u001b[0m \u001b[1;32mand\u001b[0m \u001b[0mresponse\u001b[0m\u001b[1;33m.\u001b[0m\u001b[0mget_redirect_location\u001b[0m\u001b[1;33m(\u001b[0m\u001b[1;33m)\u001b[0m\u001b[1;33m\u001b[0m\u001b[1;33m\u001b[0m\u001b[0m\n",
      "\u001b[1;32mD:\\Anaconda\\lib\\site-packages\\urllib3\\connectionpool.py\u001b[0m in \u001b[0;36murlopen\u001b[1;34m(self, method, url, body, headers, retries, redirect, assert_same_host, timeout, pool_timeout, release_conn, chunked, body_pos, **response_kw)\u001b[0m\n\u001b[0;32m    668\u001b[0m \u001b[1;33m\u001b[0m\u001b[0m\n\u001b[0;32m    669\u001b[0m             \u001b[1;31m# Make the request on the httplib connection object.\u001b[0m\u001b[1;33m\u001b[0m\u001b[1;33m\u001b[0m\u001b[1;33m\u001b[0m\u001b[0m\n\u001b[1;32m--> 670\u001b[1;33m             httplib_response = self._make_request(\n\u001b[0m\u001b[0;32m    671\u001b[0m                 \u001b[0mconn\u001b[0m\u001b[1;33m,\u001b[0m\u001b[1;33m\u001b[0m\u001b[1;33m\u001b[0m\u001b[0m\n\u001b[0;32m    672\u001b[0m                 \u001b[0mmethod\u001b[0m\u001b[1;33m,\u001b[0m\u001b[1;33m\u001b[0m\u001b[1;33m\u001b[0m\u001b[0m\n",
      "\u001b[1;32mD:\\Anaconda\\lib\\site-packages\\urllib3\\connectionpool.py\u001b[0m in \u001b[0;36m_make_request\u001b[1;34m(self, conn, method, url, timeout, chunked, **httplib_request_kw)\u001b[0m\n\u001b[0;32m    424\u001b[0m                     \u001b[1;31m# Python 3 (including for exceptions like SystemExit).\u001b[0m\u001b[1;33m\u001b[0m\u001b[1;33m\u001b[0m\u001b[1;33m\u001b[0m\u001b[0m\n\u001b[0;32m    425\u001b[0m                     \u001b[1;31m# Otherwise it looks like a bug in the code.\u001b[0m\u001b[1;33m\u001b[0m\u001b[1;33m\u001b[0m\u001b[1;33m\u001b[0m\u001b[0m\n\u001b[1;32m--> 426\u001b[1;33m                     \u001b[0msix\u001b[0m\u001b[1;33m.\u001b[0m\u001b[0mraise_from\u001b[0m\u001b[1;33m(\u001b[0m\u001b[0me\u001b[0m\u001b[1;33m,\u001b[0m \u001b[1;32mNone\u001b[0m\u001b[1;33m)\u001b[0m\u001b[1;33m\u001b[0m\u001b[1;33m\u001b[0m\u001b[0m\n\u001b[0m\u001b[0;32m    427\u001b[0m         \u001b[1;32mexcept\u001b[0m \u001b[1;33m(\u001b[0m\u001b[0mSocketTimeout\u001b[0m\u001b[1;33m,\u001b[0m \u001b[0mBaseSSLError\u001b[0m\u001b[1;33m,\u001b[0m \u001b[0mSocketError\u001b[0m\u001b[1;33m)\u001b[0m \u001b[1;32mas\u001b[0m \u001b[0me\u001b[0m\u001b[1;33m:\u001b[0m\u001b[1;33m\u001b[0m\u001b[1;33m\u001b[0m\u001b[0m\n\u001b[0;32m    428\u001b[0m             \u001b[0mself\u001b[0m\u001b[1;33m.\u001b[0m\u001b[0m_raise_timeout\u001b[0m\u001b[1;33m(\u001b[0m\u001b[0merr\u001b[0m\u001b[1;33m=\u001b[0m\u001b[0me\u001b[0m\u001b[1;33m,\u001b[0m \u001b[0murl\u001b[0m\u001b[1;33m=\u001b[0m\u001b[0murl\u001b[0m\u001b[1;33m,\u001b[0m \u001b[0mtimeout_value\u001b[0m\u001b[1;33m=\u001b[0m\u001b[0mread_timeout\u001b[0m\u001b[1;33m)\u001b[0m\u001b[1;33m\u001b[0m\u001b[1;33m\u001b[0m\u001b[0m\n",
      "\u001b[1;32mD:\\Anaconda\\lib\\site-packages\\urllib3\\packages\\six.py\u001b[0m in \u001b[0;36mraise_from\u001b[1;34m(value, from_value)\u001b[0m\n",
      "\u001b[1;32mD:\\Anaconda\\lib\\site-packages\\urllib3\\connectionpool.py\u001b[0m in \u001b[0;36m_make_request\u001b[1;34m(self, conn, method, url, timeout, chunked, **httplib_request_kw)\u001b[0m\n\u001b[0;32m    419\u001b[0m                 \u001b[1;31m# Python 3\u001b[0m\u001b[1;33m\u001b[0m\u001b[1;33m\u001b[0m\u001b[1;33m\u001b[0m\u001b[0m\n\u001b[0;32m    420\u001b[0m                 \u001b[1;32mtry\u001b[0m\u001b[1;33m:\u001b[0m\u001b[1;33m\u001b[0m\u001b[1;33m\u001b[0m\u001b[0m\n\u001b[1;32m--> 421\u001b[1;33m                     \u001b[0mhttplib_response\u001b[0m \u001b[1;33m=\u001b[0m \u001b[0mconn\u001b[0m\u001b[1;33m.\u001b[0m\u001b[0mgetresponse\u001b[0m\u001b[1;33m(\u001b[0m\u001b[1;33m)\u001b[0m\u001b[1;33m\u001b[0m\u001b[1;33m\u001b[0m\u001b[0m\n\u001b[0m\u001b[0;32m    422\u001b[0m                 \u001b[1;32mexcept\u001b[0m \u001b[0mBaseException\u001b[0m \u001b[1;32mas\u001b[0m \u001b[0me\u001b[0m\u001b[1;33m:\u001b[0m\u001b[1;33m\u001b[0m\u001b[1;33m\u001b[0m\u001b[0m\n\u001b[0;32m    423\u001b[0m                     \u001b[1;31m# Remove the TypeError from the exception chain in\u001b[0m\u001b[1;33m\u001b[0m\u001b[1;33m\u001b[0m\u001b[1;33m\u001b[0m\u001b[0m\n",
      "\u001b[1;32mD:\\Anaconda\\lib\\http\\client.py\u001b[0m in \u001b[0;36mgetresponse\u001b[1;34m(self)\u001b[0m\n\u001b[0;32m   1345\u001b[0m         \u001b[1;32mtry\u001b[0m\u001b[1;33m:\u001b[0m\u001b[1;33m\u001b[0m\u001b[1;33m\u001b[0m\u001b[0m\n\u001b[0;32m   1346\u001b[0m             \u001b[1;32mtry\u001b[0m\u001b[1;33m:\u001b[0m\u001b[1;33m\u001b[0m\u001b[1;33m\u001b[0m\u001b[0m\n\u001b[1;32m-> 1347\u001b[1;33m                 \u001b[0mresponse\u001b[0m\u001b[1;33m.\u001b[0m\u001b[0mbegin\u001b[0m\u001b[1;33m(\u001b[0m\u001b[1;33m)\u001b[0m\u001b[1;33m\u001b[0m\u001b[1;33m\u001b[0m\u001b[0m\n\u001b[0m\u001b[0;32m   1348\u001b[0m             \u001b[1;32mexcept\u001b[0m \u001b[0mConnectionError\u001b[0m\u001b[1;33m:\u001b[0m\u001b[1;33m\u001b[0m\u001b[1;33m\u001b[0m\u001b[0m\n\u001b[0;32m   1349\u001b[0m                 \u001b[0mself\u001b[0m\u001b[1;33m.\u001b[0m\u001b[0mclose\u001b[0m\u001b[1;33m(\u001b[0m\u001b[1;33m)\u001b[0m\u001b[1;33m\u001b[0m\u001b[1;33m\u001b[0m\u001b[0m\n",
      "\u001b[1;32mD:\\Anaconda\\lib\\http\\client.py\u001b[0m in \u001b[0;36mbegin\u001b[1;34m(self)\u001b[0m\n\u001b[0;32m    305\u001b[0m         \u001b[1;31m# read until we get a non-100 response\u001b[0m\u001b[1;33m\u001b[0m\u001b[1;33m\u001b[0m\u001b[1;33m\u001b[0m\u001b[0m\n\u001b[0;32m    306\u001b[0m         \u001b[1;32mwhile\u001b[0m \u001b[1;32mTrue\u001b[0m\u001b[1;33m:\u001b[0m\u001b[1;33m\u001b[0m\u001b[1;33m\u001b[0m\u001b[0m\n\u001b[1;32m--> 307\u001b[1;33m             \u001b[0mversion\u001b[0m\u001b[1;33m,\u001b[0m \u001b[0mstatus\u001b[0m\u001b[1;33m,\u001b[0m \u001b[0mreason\u001b[0m \u001b[1;33m=\u001b[0m \u001b[0mself\u001b[0m\u001b[1;33m.\u001b[0m\u001b[0m_read_status\u001b[0m\u001b[1;33m(\u001b[0m\u001b[1;33m)\u001b[0m\u001b[1;33m\u001b[0m\u001b[1;33m\u001b[0m\u001b[0m\n\u001b[0m\u001b[0;32m    308\u001b[0m             \u001b[1;32mif\u001b[0m \u001b[0mstatus\u001b[0m \u001b[1;33m!=\u001b[0m \u001b[0mCONTINUE\u001b[0m\u001b[1;33m:\u001b[0m\u001b[1;33m\u001b[0m\u001b[1;33m\u001b[0m\u001b[0m\n\u001b[0;32m    309\u001b[0m                 \u001b[1;32mbreak\u001b[0m\u001b[1;33m\u001b[0m\u001b[1;33m\u001b[0m\u001b[0m\n",
      "\u001b[1;32mD:\\Anaconda\\lib\\http\\client.py\u001b[0m in \u001b[0;36m_read_status\u001b[1;34m(self)\u001b[0m\n\u001b[0;32m    266\u001b[0m \u001b[1;33m\u001b[0m\u001b[0m\n\u001b[0;32m    267\u001b[0m     \u001b[1;32mdef\u001b[0m \u001b[0m_read_status\u001b[0m\u001b[1;33m(\u001b[0m\u001b[0mself\u001b[0m\u001b[1;33m)\u001b[0m\u001b[1;33m:\u001b[0m\u001b[1;33m\u001b[0m\u001b[1;33m\u001b[0m\u001b[0m\n\u001b[1;32m--> 268\u001b[1;33m         \u001b[0mline\u001b[0m \u001b[1;33m=\u001b[0m \u001b[0mstr\u001b[0m\u001b[1;33m(\u001b[0m\u001b[0mself\u001b[0m\u001b[1;33m.\u001b[0m\u001b[0mfp\u001b[0m\u001b[1;33m.\u001b[0m\u001b[0mreadline\u001b[0m\u001b[1;33m(\u001b[0m\u001b[0m_MAXLINE\u001b[0m \u001b[1;33m+\u001b[0m \u001b[1;36m1\u001b[0m\u001b[1;33m)\u001b[0m\u001b[1;33m,\u001b[0m \u001b[1;34m\"iso-8859-1\"\u001b[0m\u001b[1;33m)\u001b[0m\u001b[1;33m\u001b[0m\u001b[1;33m\u001b[0m\u001b[0m\n\u001b[0m\u001b[0;32m    269\u001b[0m         \u001b[1;32mif\u001b[0m \u001b[0mlen\u001b[0m\u001b[1;33m(\u001b[0m\u001b[0mline\u001b[0m\u001b[1;33m)\u001b[0m \u001b[1;33m>\u001b[0m \u001b[0m_MAXLINE\u001b[0m\u001b[1;33m:\u001b[0m\u001b[1;33m\u001b[0m\u001b[1;33m\u001b[0m\u001b[0m\n\u001b[0;32m    270\u001b[0m             \u001b[1;32mraise\u001b[0m \u001b[0mLineTooLong\u001b[0m\u001b[1;33m(\u001b[0m\u001b[1;34m\"status line\"\u001b[0m\u001b[1;33m)\u001b[0m\u001b[1;33m\u001b[0m\u001b[1;33m\u001b[0m\u001b[0m\n",
      "\u001b[1;32mD:\\Anaconda\\lib\\socket.py\u001b[0m in \u001b[0;36mreadinto\u001b[1;34m(self, b)\u001b[0m\n\u001b[0;32m    667\u001b[0m         \u001b[1;32mwhile\u001b[0m \u001b[1;32mTrue\u001b[0m\u001b[1;33m:\u001b[0m\u001b[1;33m\u001b[0m\u001b[1;33m\u001b[0m\u001b[0m\n\u001b[0;32m    668\u001b[0m             \u001b[1;32mtry\u001b[0m\u001b[1;33m:\u001b[0m\u001b[1;33m\u001b[0m\u001b[1;33m\u001b[0m\u001b[0m\n\u001b[1;32m--> 669\u001b[1;33m                 \u001b[1;32mreturn\u001b[0m \u001b[0mself\u001b[0m\u001b[1;33m.\u001b[0m\u001b[0m_sock\u001b[0m\u001b[1;33m.\u001b[0m\u001b[0mrecv_into\u001b[0m\u001b[1;33m(\u001b[0m\u001b[0mb\u001b[0m\u001b[1;33m)\u001b[0m\u001b[1;33m\u001b[0m\u001b[1;33m\u001b[0m\u001b[0m\n\u001b[0m\u001b[0;32m    670\u001b[0m             \u001b[1;32mexcept\u001b[0m \u001b[0mtimeout\u001b[0m\u001b[1;33m:\u001b[0m\u001b[1;33m\u001b[0m\u001b[1;33m\u001b[0m\u001b[0m\n\u001b[0;32m    671\u001b[0m                 \u001b[0mself\u001b[0m\u001b[1;33m.\u001b[0m\u001b[0m_timeout_occurred\u001b[0m \u001b[1;33m=\u001b[0m \u001b[1;32mTrue\u001b[0m\u001b[1;33m\u001b[0m\u001b[1;33m\u001b[0m\u001b[0m\n",
      "\u001b[1;31mKeyboardInterrupt\u001b[0m: "
     ]
    }
   ],
   "source": [
    "driver = webdriver.Chrome('D:/chromedriver.exe')\n",
    "driver.get('https://law.judicial.gov.tw/FJUD/qryresultlst.aspx?q=853a61abf1fd98411251243f793bf450&gy=jyear&gc=108&sort=DS&page=1&ot=in')\n",
    "\n",
    "for i in range(100):\n",
    "    titles = driver.find_elements_by_id('hlTitle')\n",
    "    list_title = []\n",
    "    for title in titles:\n",
    "        list_title.append(title.text)\n",
    "        title_col.append(title.text)\n",
    "        \n",
    "    for title in list_title:    \n",
    "        driver.find_element_by_link_text(title).click()\n",
    "        driver.find_element_by_id('jud')\n",
    "        soup_panel = BeautifulSoup(driver.page_source, 'lxml')\n",
    "        maintext_col.append(soup_panel)\n",
    "        driver.back()\n",
    "        \n",
    "    try:    \n",
    "        driver.find_element_by_link_text('下一頁').click()\n",
    "    except:\n",
    "        break"
   ]
  },
  {
   "cell_type": "code",
   "execution_count": 24,
   "metadata": {},
   "outputs": [
    {
     "data": {
      "text/plain": [
       "1482"
      ]
     },
     "execution_count": 24,
     "metadata": {},
     "output_type": "execute_result"
    }
   ],
   "source": [
    "len(maintext_col)"
   ]
  },
  {
   "cell_type": "code",
   "execution_count": 25,
   "metadata": {},
   "outputs": [
    {
     "data": {
      "text/plain": [
       "1482"
      ]
     },
     "execution_count": 25,
     "metadata": {},
     "output_type": "execute_result"
    }
   ],
   "source": [
    "len(title_col)"
   ]
  },
  {
   "cell_type": "code",
   "execution_count": null,
   "metadata": {},
   "outputs": [],
   "source": []
  },
  {
   "cell_type": "code",
   "execution_count": 173,
   "metadata": {},
   "outputs": [],
   "source": [
    "df3 = pd.DataFrame(list(zip(title_col, maintext_col)),\n",
    "                  columns =['title', 'main_text'])"
   ]
  },
  {
   "cell_type": "code",
   "execution_count": 174,
   "metadata": {},
   "outputs": [],
   "source": [
    "df3.set_index('title', inplace = True)"
   ]
  },
  {
   "cell_type": "code",
   "execution_count": 185,
   "metadata": {},
   "outputs": [
    {
     "data": {
      "text/html": [
       "<div>\n",
       "<style scoped>\n",
       "    .dataframe tbody tr th:only-of-type {\n",
       "        vertical-align: middle;\n",
       "    }\n",
       "\n",
       "    .dataframe tbody tr th {\n",
       "        vertical-align: top;\n",
       "    }\n",
       "\n",
       "    .dataframe thead th {\n",
       "        text-align: right;\n",
       "    }\n",
       "</style>\n",
       "<table border=\"1\" class=\"dataframe\">\n",
       "  <thead>\n",
       "    <tr style=\"text-align: right;\">\n",
       "      <th></th>\n",
       "      <th>main_text</th>\n",
       "    </tr>\n",
       "    <tr>\n",
       "      <th>title</th>\n",
       "      <th></th>\n",
       "    </tr>\n",
       "  </thead>\n",
       "  <tbody>\n",
       "    <tr>\n",
       "      <th>臺灣苗栗地方法院 109 年度 苗簡 字第 444 號民事判決</th>\n",
       "      <td>[[[&lt;meta content=\"text/html; charset=utf-8\" ht...</td>\n",
       "    </tr>\n",
       "    <tr>\n",
       "      <th>臺灣新竹地方法院 109 年度 原重訴 字第 2 號民事判決</th>\n",
       "      <td>[[[&lt;meta content=\"text/html; charset=utf-8\" ht...</td>\n",
       "    </tr>\n",
       "    <tr>\n",
       "      <th>臺灣新竹地方法院 109 年度 原訴 字第 12 號民事判決</th>\n",
       "      <td>[[[&lt;meta content=\"text/html; charset=utf-8\" ht...</td>\n",
       "    </tr>\n",
       "    <tr>\n",
       "      <th>桃園簡易庭 109 年度 桃簡 字第 1097 號民事判決</th>\n",
       "      <td>[[[&lt;meta content=\"text/html; charset=utf-8\" ht...</td>\n",
       "    </tr>\n",
       "    <tr>\n",
       "      <th>板橋簡易庭 109 年度 板小 字第 3568 號民事判決</th>\n",
       "      <td>[[[&lt;meta content=\"text/html; charset=utf-8\" ht...</td>\n",
       "    </tr>\n",
       "    <tr>\n",
       "      <th>中壢簡易庭 109 年度 壢簡 字第 710 號民事判決</th>\n",
       "      <td>[[[&lt;meta content=\"text/html; charset=utf-8\" ht...</td>\n",
       "    </tr>\n",
       "    <tr>\n",
       "      <th>中壢簡易庭 109 年度 壢簡 字第 320 號民事判決</th>\n",
       "      <td>[[[&lt;style type=\"text/css\"&gt;\\n@font-face {\\n\\tfo...</td>\n",
       "    </tr>\n",
       "    <tr>\n",
       "      <th>中壢簡易庭 109 年度 壢小 字第 1298 號民事判決</th>\n",
       "      <td>[[[&lt;style type=\"text/css\"&gt;\\n@font-face {\\n\\tfo...</td>\n",
       "    </tr>\n",
       "    <tr>\n",
       "      <th>臺北簡易庭 109 年度 北簡 字第 4970 號民事判決</th>\n",
       "      <td>[[[&lt;meta content=\"text/html; charset=utf-8\" ht...</td>\n",
       "    </tr>\n",
       "    <tr>\n",
       "      <th>臺灣苗栗地方法院 109 年度 訴 字第 477 號民事判決</th>\n",
       "      <td>[[[&lt;meta content=\"text/html; charset=utf-8\" ht...</td>\n",
       "    </tr>\n",
       "    <tr>\n",
       "      <th>士林簡易庭 109 年度 士簡 字第 1192 號民事判決</th>\n",
       "      <td>[[[&lt;meta content=\"text/html; charset=utf-8\" ht...</td>\n",
       "    </tr>\n",
       "    <tr>\n",
       "      <th>臺中簡易庭 109 年度 中簡 字第 2288 號民事判決</th>\n",
       "      <td>[[[&lt;meta content=\"text/html; charset=utf-8\" ht...</td>\n",
       "    </tr>\n",
       "    <tr>\n",
       "      <th>三重簡易庭 109 年度 重簡 字第 1706 號民事判決</th>\n",
       "      <td>[[[&lt;meta content=\"text/html; charset=utf-8\" ht...</td>\n",
       "    </tr>\n",
       "    <tr>\n",
       "      <th>嘉義簡易庭(含朴子) 109 年度 朴小 字第 91 號民事判決</th>\n",
       "      <td>[[[&lt;meta content=\"text/html; charset=utf-8\" ht...</td>\n",
       "    </tr>\n",
       "    <tr>\n",
       "      <th>臺中簡易庭 109 年度 中訴 字第 3 號民事判決</th>\n",
       "      <td>[[[&lt;meta content=\"text/html; charset=utf-8\" ht...</td>\n",
       "    </tr>\n",
       "    <tr>\n",
       "      <th>臺灣新竹地方法院 109 年度 訴 字第 693 號民事判決</th>\n",
       "      <td>[[[&lt;meta content=\"text/html; charset=utf-8\" ht...</td>\n",
       "    </tr>\n",
       "    <tr>\n",
       "      <th>臺灣苗栗地方法院 109 年度 苗原簡 字第 14 號民事判決</th>\n",
       "      <td>[[[&lt;meta content=\"text/html; charset=utf-8\" ht...</td>\n",
       "    </tr>\n",
       "    <tr>\n",
       "      <th>鳳山簡易庭 109 年度 鳳小 字第 561 號民事判決</th>\n",
       "      <td>[[[&lt;style type=\"text/css\"&gt;\\n@font-face {\\n\\tfo...</td>\n",
       "    </tr>\n",
       "    <tr>\n",
       "      <th>竹北簡易庭(含竹東) 109 年度 竹北原簡 字第 3 號民事判決</th>\n",
       "      <td>[[[&lt;meta content=\"text/html; charset=utf-8\" ht...</td>\n",
       "    </tr>\n",
       "    <tr>\n",
       "      <th>竹北簡易庭(含竹東) 109 年度 竹北原簡 字第 3 號刑事判決</th>\n",
       "      <td>[[[&lt;meta content=\"text/html; charset=utf-8\" ht...</td>\n",
       "    </tr>\n",
       "    <tr>\n",
       "      <th>彰化簡易庭 109 年度 彰簡 字第 402 號民事判決</th>\n",
       "      <td>[[[&lt;meta content=\"text/html; charset=utf-8\" ht...</td>\n",
       "    </tr>\n",
       "    <tr>\n",
       "      <th>臺南簡易庭 109 年度 南簡 字第 630 號民事判決</th>\n",
       "      <td>[[[&lt;meta content=\"text/html; charset=utf-8\" ht...</td>\n",
       "    </tr>\n",
       "  </tbody>\n",
       "</table>\n",
       "</div>"
      ],
      "text/plain": [
       "                                                                           main_text\n",
       "title                                                                               \n",
       "臺灣苗栗地方法院 109 年度 苗簡 字第 444 號民事判決    [[[<meta content=\"text/html; charset=utf-8\" ht...\n",
       "臺灣新竹地方法院 109 年度 原重訴 字第 2 號民事判決     [[[<meta content=\"text/html; charset=utf-8\" ht...\n",
       "臺灣新竹地方法院 109 年度 原訴 字第 12 號民事判決     [[[<meta content=\"text/html; charset=utf-8\" ht...\n",
       "桃園簡易庭 109 年度 桃簡 字第 1097 號民事判決      [[[<meta content=\"text/html; charset=utf-8\" ht...\n",
       "板橋簡易庭 109 年度 板小 字第 3568 號民事判決      [[[<meta content=\"text/html; charset=utf-8\" ht...\n",
       "中壢簡易庭 109 年度 壢簡 字第 710 號民事判決       [[[<meta content=\"text/html; charset=utf-8\" ht...\n",
       "中壢簡易庭 109 年度 壢簡 字第 320 號民事判決       [[[<style type=\"text/css\">\\n@font-face {\\n\\tfo...\n",
       "中壢簡易庭 109 年度 壢小 字第 1298 號民事判決      [[[<style type=\"text/css\">\\n@font-face {\\n\\tfo...\n",
       "臺北簡易庭 109 年度 北簡 字第 4970 號民事判決      [[[<meta content=\"text/html; charset=utf-8\" ht...\n",
       "臺灣苗栗地方法院 109 年度 訴 字第 477 號民事判決     [[[<meta content=\"text/html; charset=utf-8\" ht...\n",
       "士林簡易庭 109 年度 士簡 字第 1192 號民事判決      [[[<meta content=\"text/html; charset=utf-8\" ht...\n",
       "臺中簡易庭 109 年度 中簡 字第 2288 號民事判決      [[[<meta content=\"text/html; charset=utf-8\" ht...\n",
       "三重簡易庭 109 年度 重簡 字第 1706 號民事判決      [[[<meta content=\"text/html; charset=utf-8\" ht...\n",
       "嘉義簡易庭(含朴子) 109 年度 朴小 字第 91 號民事判決   [[[<meta content=\"text/html; charset=utf-8\" ht...\n",
       "臺中簡易庭 109 年度 中訴 字第 3 號民事判決         [[[<meta content=\"text/html; charset=utf-8\" ht...\n",
       "臺灣新竹地方法院 109 年度 訴 字第 693 號民事判決     [[[<meta content=\"text/html; charset=utf-8\" ht...\n",
       "臺灣苗栗地方法院 109 年度 苗原簡 字第 14 號民事判決    [[[<meta content=\"text/html; charset=utf-8\" ht...\n",
       "鳳山簡易庭 109 年度 鳳小 字第 561 號民事判決       [[[<style type=\"text/css\">\\n@font-face {\\n\\tfo...\n",
       "竹北簡易庭(含竹東) 109 年度 竹北原簡 字第 3 號民事判決  [[[<meta content=\"text/html; charset=utf-8\" ht...\n",
       "竹北簡易庭(含竹東) 109 年度 竹北原簡 字第 3 號刑事判決  [[[<meta content=\"text/html; charset=utf-8\" ht...\n",
       "彰化簡易庭 109 年度 彰簡 字第 402 號民事判決       [[[<meta content=\"text/html; charset=utf-8\" ht...\n",
       "臺南簡易庭 109 年度 南簡 字第 630 號民事判決       [[[<meta content=\"text/html; charset=utf-8\" ht..."
      ]
     },
     "execution_count": 185,
     "metadata": {},
     "output_type": "execute_result"
    }
   ],
   "source": [
    "df3"
   ]
  },
  {
   "cell_type": "code",
   "execution_count": 184,
   "metadata": {},
   "outputs": [
    {
     "data": {
      "text/plain": [
       "(22, 1)"
      ]
     },
     "execution_count": 184,
     "metadata": {},
     "output_type": "execute_result"
    }
   ],
   "source": [
    "df3.shape"
   ]
  },
  {
   "cell_type": "code",
   "execution_count": null,
   "metadata": {},
   "outputs": [],
   "source": []
  },
  {
   "cell_type": "code",
   "execution_count": null,
   "metadata": {},
   "outputs": [],
   "source": []
  },
  {
   "cell_type": "code",
   "execution_count": 166,
   "metadata": {},
   "outputs": [],
   "source": [
    "df2 = pd.DataFrame(list(zip(title_col, maintext_col)),\n",
    "                  columns =['title', 'main_text'])"
   ]
  },
  {
   "cell_type": "code",
   "execution_count": 168,
   "metadata": {},
   "outputs": [],
   "source": [
    "df2.set_index('title', inplace = True)"
   ]
  },
  {
   "cell_type": "code",
   "execution_count": 169,
   "metadata": {},
   "outputs": [
    {
     "data": {
      "text/html": [
       "<div>\n",
       "<style scoped>\n",
       "    .dataframe tbody tr th:only-of-type {\n",
       "        vertical-align: middle;\n",
       "    }\n",
       "\n",
       "    .dataframe tbody tr th {\n",
       "        vertical-align: top;\n",
       "    }\n",
       "\n",
       "    .dataframe thead th {\n",
       "        text-align: right;\n",
       "    }\n",
       "</style>\n",
       "<table border=\"1\" class=\"dataframe\">\n",
       "  <thead>\n",
       "    <tr style=\"text-align: right;\">\n",
       "      <th></th>\n",
       "      <th>main_text</th>\n",
       "    </tr>\n",
       "    <tr>\n",
       "      <th>title</th>\n",
       "      <th></th>\n",
       "    </tr>\n",
       "  </thead>\n",
       "  <tbody>\n",
       "    <tr>\n",
       "      <th>臺灣臺南地方法院 109 年度 交簡 字第 133 號刑事判決</th>\n",
       "      <td>[[[&lt;meta content=\"text/html; charset=utf-8\" ht...</td>\n",
       "    </tr>\n",
       "    <tr>\n",
       "      <th>臺灣桃園地方法院 109 年度 訴 字第 263 號民事裁定</th>\n",
       "      <td>[[[&lt;meta content=\"text/html; charset=utf-8\" ht...</td>\n",
       "    </tr>\n",
       "    <tr>\n",
       "      <th>臺灣基隆地方法院 109 年度 基小 字第 131 號民事判決</th>\n",
       "      <td>[[[&lt;meta content=\"text/html; charset=utf-8\" ht...</td>\n",
       "    </tr>\n",
       "    <tr>\n",
       "      <th>臺灣高雄地方法院 109 年度 訴 字第 12 號民事判決</th>\n",
       "      <td>[[[&lt;meta content=\"text/html; charset=utf-8\" ht...</td>\n",
       "    </tr>\n",
       "    <tr>\n",
       "      <th>臺灣臺中地方法院 109 年度 訴 字第 11 號民事判決</th>\n",
       "      <td>[[[&lt;meta content=\"text/html; charset=utf-8\" ht...</td>\n",
       "    </tr>\n",
       "    <tr>\n",
       "      <th>...</th>\n",
       "      <td>...</td>\n",
       "    </tr>\n",
       "    <tr>\n",
       "      <th>臺灣高等法院 高雄分院 109 年度 上易 字第 319 號民事判決</th>\n",
       "      <td>[[[&lt;meta content=\"text/html; charset=utf-8\" ht...</td>\n",
       "    </tr>\n",
       "    <tr>\n",
       "      <th>臺灣高等法院 臺南分院 109 年度 上易 字第 182 號民事判決</th>\n",
       "      <td>[[[&lt;meta content=\"text/html; charset=utf-8\" ht...</td>\n",
       "    </tr>\n",
       "    <tr>\n",
       "      <th>臺灣新竹地方法院 109 年度 訴 字第 693 號民事判決</th>\n",
       "      <td>[[[&lt;meta content=\"text/html; charset=utf-8\" ht...</td>\n",
       "    </tr>\n",
       "    <tr>\n",
       "      <th>臺灣苗栗地方法院 109 年度 苗原簡 字第 14 號民事判決</th>\n",
       "      <td>[[[&lt;meta content=\"text/html; charset=utf-8\" ht...</td>\n",
       "    </tr>\n",
       "    <tr>\n",
       "      <th>臺灣臺中地方法院 109 年度 訴 字第 2594 號民事判決</th>\n",
       "      <td>[[[&lt;meta content=\"text/html; charset=utf-8\" ht...</td>\n",
       "    </tr>\n",
       "  </tbody>\n",
       "</table>\n",
       "<p>500 rows × 1 columns</p>\n",
       "</div>"
      ],
      "text/plain": [
       "                                                                            main_text\n",
       "title                                                                                \n",
       "臺灣臺南地方法院 109 年度 交簡 字第 133 號刑事判決     [[[<meta content=\"text/html; charset=utf-8\" ht...\n",
       "臺灣桃園地方法院 109 年度 訴 字第 263 號民事裁定      [[[<meta content=\"text/html; charset=utf-8\" ht...\n",
       "臺灣基隆地方法院 109 年度 基小 字第 131 號民事判決     [[[<meta content=\"text/html; charset=utf-8\" ht...\n",
       "臺灣高雄地方法院 109 年度 訴 字第 12 號民事判決       [[[<meta content=\"text/html; charset=utf-8\" ht...\n",
       "臺灣臺中地方法院 109 年度 訴 字第 11 號民事判決       [[[<meta content=\"text/html; charset=utf-8\" ht...\n",
       "...                                                                               ...\n",
       "臺灣高等法院 高雄分院 109 年度 上易 字第 319 號民事判決  [[[<meta content=\"text/html; charset=utf-8\" ht...\n",
       "臺灣高等法院 臺南分院 109 年度 上易 字第 182 號民事判決  [[[<meta content=\"text/html; charset=utf-8\" ht...\n",
       "臺灣新竹地方法院 109 年度 訴 字第 693 號民事判決      [[[<meta content=\"text/html; charset=utf-8\" ht...\n",
       "臺灣苗栗地方法院 109 年度 苗原簡 字第 14 號民事判決     [[[<meta content=\"text/html; charset=utf-8\" ht...\n",
       "臺灣臺中地方法院 109 年度 訴 字第 2594 號民事判決     [[[<meta content=\"text/html; charset=utf-8\" ht...\n",
       "\n",
       "[500 rows x 1 columns]"
      ]
     },
     "execution_count": 169,
     "metadata": {},
     "output_type": "execute_result"
    }
   ],
   "source": [
    "df2"
   ]
  },
  {
   "cell_type": "code",
   "execution_count": null,
   "metadata": {},
   "outputs": [],
   "source": []
  },
  {
   "cell_type": "code",
   "execution_count": null,
   "metadata": {},
   "outputs": [],
   "source": []
  },
  {
   "cell_type": "code",
   "execution_count": 26,
   "metadata": {},
   "outputs": [],
   "source": [
    "df = pd.DataFrame(list(zip(title_col, maintext_col)),\n",
    "                  columns =['title', 'main_text'])"
   ]
  },
  {
   "cell_type": "code",
   "execution_count": 27,
   "metadata": {},
   "outputs": [],
   "source": [
    "df.set_index('title', inplace = True)"
   ]
  },
  {
   "cell_type": "code",
   "execution_count": 28,
   "metadata": {},
   "outputs": [
    {
     "data": {
      "text/html": [
       "<div>\n",
       "<style scoped>\n",
       "    .dataframe tbody tr th:only-of-type {\n",
       "        vertical-align: middle;\n",
       "    }\n",
       "\n",
       "    .dataframe tbody tr th {\n",
       "        vertical-align: top;\n",
       "    }\n",
       "\n",
       "    .dataframe thead th {\n",
       "        text-align: right;\n",
       "    }\n",
       "</style>\n",
       "<table border=\"1\" class=\"dataframe\">\n",
       "  <thead>\n",
       "    <tr style=\"text-align: right;\">\n",
       "      <th></th>\n",
       "      <th>main_text</th>\n",
       "    </tr>\n",
       "    <tr>\n",
       "      <th>title</th>\n",
       "      <th></th>\n",
       "    </tr>\n",
       "  </thead>\n",
       "  <tbody>\n",
       "    <tr>\n",
       "      <th>臺灣高等法院 108 年度 上 字第 1528 號民事判決</th>\n",
       "      <td>[[[&lt;meta content=\"text/html; charset=utf-8\" ht...</td>\n",
       "    </tr>\n",
       "    <tr>\n",
       "      <th>臺灣宜蘭地方法院 108 年度 訴 字第 569 號民事判決</th>\n",
       "      <td>[[[&lt;meta content=\"text/html; charset=utf-8\" ht...</td>\n",
       "    </tr>\n",
       "    <tr>\n",
       "      <th>臺灣新北地方法院 108 年度 訴 字第 2715 號民事判決</th>\n",
       "      <td>[[[&lt;meta content=\"text/html; charset=utf-8\" ht...</td>\n",
       "    </tr>\n",
       "    <tr>\n",
       "      <th>臺灣士林地方法院 108 年度 重訴 字第 460 號民事判決</th>\n",
       "      <td>[[[&lt;meta content=\"text/html; charset=utf-8\" ht...</td>\n",
       "    </tr>\n",
       "    <tr>\n",
       "      <th>臺灣橋頭地方法院 108 年度 訴 字第 934 號民事判決</th>\n",
       "      <td>[[[&lt;meta content=\"text/html; charset=utf-8\" ht...</td>\n",
       "    </tr>\n",
       "    <tr>\n",
       "      <th>...</th>\n",
       "      <td>...</td>\n",
       "    </tr>\n",
       "    <tr>\n",
       "      <th>臺灣高等法院 108 年度 上易 字第 921 號民事判決</th>\n",
       "      <td>[[[&lt;meta content=\"text/html; charset=utf-8\" ht...</td>\n",
       "    </tr>\n",
       "    <tr>\n",
       "      <th>臺灣新北地方法院 108 年度 訴 字第 868 號民事判決</th>\n",
       "      <td>[[[&lt;meta content=\"text/html; charset=utf-8\" ht...</td>\n",
       "    </tr>\n",
       "    <tr>\n",
       "      <th>臺灣新北地方法院 108 年度 訴 字第 771 號民事判決</th>\n",
       "      <td>[[[&lt;meta content=\"text/html; charset=utf-8\" ht...</td>\n",
       "    </tr>\n",
       "    <tr>\n",
       "      <th>臺灣臺南地方法院 108 年度 訴 字第 945 號民事判決</th>\n",
       "      <td>[[[&lt;meta content=\"text/html; charset=utf-8\" ht...</td>\n",
       "    </tr>\n",
       "    <tr>\n",
       "      <th>臺灣高雄地方法院 108 年度 簡上 字第 48 號民事判決</th>\n",
       "      <td>[[[&lt;meta content=\"text/html; charset=utf-8\" ht...</td>\n",
       "    </tr>\n",
       "  </tbody>\n",
       "</table>\n",
       "<p>1482 rows × 1 columns</p>\n",
       "</div>"
      ],
      "text/plain": [
       "                                                                         main_text\n",
       "title                                                                             \n",
       "臺灣高等法院 108 年度 上 字第 1528 號民事判決    [[[<meta content=\"text/html; charset=utf-8\" ht...\n",
       "臺灣宜蘭地方法院 108 年度 訴 字第 569 號民事判決   [[[<meta content=\"text/html; charset=utf-8\" ht...\n",
       "臺灣新北地方法院 108 年度 訴 字第 2715 號民事判決  [[[<meta content=\"text/html; charset=utf-8\" ht...\n",
       "臺灣士林地方法院 108 年度 重訴 字第 460 號民事判決  [[[<meta content=\"text/html; charset=utf-8\" ht...\n",
       "臺灣橋頭地方法院 108 年度 訴 字第 934 號民事判決   [[[<meta content=\"text/html; charset=utf-8\" ht...\n",
       "...                                                                            ...\n",
       "臺灣高等法院 108 年度 上易 字第 921 號民事判決    [[[<meta content=\"text/html; charset=utf-8\" ht...\n",
       "臺灣新北地方法院 108 年度 訴 字第 868 號民事判決   [[[<meta content=\"text/html; charset=utf-8\" ht...\n",
       "臺灣新北地方法院 108 年度 訴 字第 771 號民事判決   [[[<meta content=\"text/html; charset=utf-8\" ht...\n",
       "臺灣臺南地方法院 108 年度 訴 字第 945 號民事判決   [[[<meta content=\"text/html; charset=utf-8\" ht...\n",
       "臺灣高雄地方法院 108 年度 簡上 字第 48 號民事判決   [[[<meta content=\"text/html; charset=utf-8\" ht...\n",
       "\n",
       "[1482 rows x 1 columns]"
      ]
     },
     "execution_count": 28,
     "metadata": {},
     "output_type": "execute_result"
    }
   ],
   "source": [
    "df"
   ]
  },
  {
   "cell_type": "code",
   "execution_count": null,
   "metadata": {},
   "outputs": [],
   "source": []
  },
  {
   "cell_type": "code",
   "execution_count": null,
   "metadata": {},
   "outputs": [],
   "source": []
  },
  {
   "cell_type": "code",
   "execution_count": 196,
   "metadata": {},
   "outputs": [],
   "source": [
    "df_all = df.append([df2, df3], sort = False)"
   ]
  },
  {
   "cell_type": "code",
   "execution_count": 197,
   "metadata": {},
   "outputs": [
    {
     "data": {
      "text/plain": [
       "(1022, 1)"
      ]
     },
     "execution_count": 197,
     "metadata": {},
     "output_type": "execute_result"
    }
   ],
   "source": [
    "df_all.shape"
   ]
  },
  {
   "cell_type": "code",
   "execution_count": 29,
   "metadata": {
    "scrolled": true
   },
   "outputs": [
    {
     "data": {
      "text/html": [
       "<div>\n",
       "<style scoped>\n",
       "    .dataframe tbody tr th:only-of-type {\n",
       "        vertical-align: middle;\n",
       "    }\n",
       "\n",
       "    .dataframe tbody tr th {\n",
       "        vertical-align: top;\n",
       "    }\n",
       "\n",
       "    .dataframe thead th {\n",
       "        text-align: right;\n",
       "    }\n",
       "</style>\n",
       "<table border=\"1\" class=\"dataframe\">\n",
       "  <thead>\n",
       "    <tr style=\"text-align: right;\">\n",
       "      <th></th>\n",
       "      <th>main_text</th>\n",
       "    </tr>\n",
       "    <tr>\n",
       "      <th>title</th>\n",
       "      <th></th>\n",
       "    </tr>\n",
       "  </thead>\n",
       "  <tbody>\n",
       "    <tr>\n",
       "      <th>臺灣新北地方法院 108 年度 訴 字第 471 號民事判決</th>\n",
       "      <td>[[[&lt;meta content=\"text/html; charset=utf-8\" ht...</td>\n",
       "    </tr>\n",
       "    <tr>\n",
       "      <th>臺灣高等法院 臺中分院 108 年度 上易 字第 24 號民事判決</th>\n",
       "      <td>[[[&lt;meta content=\"text/html; charset=utf-8\" ht...</td>\n",
       "    </tr>\n",
       "    <tr>\n",
       "      <th>臺灣基隆地方法院 108 年度 訴 字第 321 號民事判決</th>\n",
       "      <td>[[[&lt;meta content=\"text/html; charset=utf-8\" ht...</td>\n",
       "    </tr>\n",
       "    <tr>\n",
       "      <th>臺灣桃園地方法院 108 年度 重訴 字第 533 號民事判決</th>\n",
       "      <td>[[[&lt;meta content=\"text/html; charset=utf-8\" ht...</td>\n",
       "    </tr>\n",
       "    <tr>\n",
       "      <th>臺灣臺中地方法院 108 年度 訴 字第 3005 號民事判決</th>\n",
       "      <td>[[[&lt;meta content=\"text/html; charset=utf-8\" ht...</td>\n",
       "    </tr>\n",
       "    <tr>\n",
       "      <th>臺灣桃園地方法院 108 年度 訴 字第 2440 號民事判決</th>\n",
       "      <td>[[[&lt;meta content=\"text/html; charset=utf-8\" ht...</td>\n",
       "    </tr>\n",
       "    <tr>\n",
       "      <th>臺灣彰化地方法院 108 年度 訴 字第 1113 號民事判決</th>\n",
       "      <td>[[[&lt;meta content=\"text/html; charset=utf-8\" ht...</td>\n",
       "    </tr>\n",
       "    <tr>\n",
       "      <th>臺灣臺南地方法院 108 年度 訴 字第 317 號民事判決</th>\n",
       "      <td>[[[&lt;script async=\"\" src=\"https://tpjwebfont2.j...</td>\n",
       "    </tr>\n",
       "    <tr>\n",
       "      <th>臺灣臺中地方法院 108 年度 訴 字第 3874 號民事判決</th>\n",
       "      <td>[[[&lt;meta content=\"text/html; charset=utf-8\" ht...</td>\n",
       "    </tr>\n",
       "    <tr>\n",
       "      <th>臺灣新北地方法院 108 年度 訴 字第 2571 號民事判決</th>\n",
       "      <td>[[[&lt;meta content=\"text/html; charset=utf-8\" ht...</td>\n",
       "    </tr>\n",
       "    <tr>\n",
       "      <th>臺灣臺南地方法院 108 年度 訴 字第 1880 號民事判決</th>\n",
       "      <td>[[[&lt;meta content=\"text/html; charset=utf-8\" ht...</td>\n",
       "    </tr>\n",
       "    <tr>\n",
       "      <th>臺灣桃園地方法院 108 年度 訴 字第 557 號民事判決</th>\n",
       "      <td>[[[&lt;meta content=\"text/html; charset=utf-8\" ht...</td>\n",
       "    </tr>\n",
       "    <tr>\n",
       "      <th>臺灣臺南地方法院 108 年度 原訴 字第 2 號民事判決</th>\n",
       "      <td>[[[&lt;meta content=\"text/html; charset=utf-8\" ht...</td>\n",
       "    </tr>\n",
       "    <tr>\n",
       "      <th>臺灣高等法院 高雄分院 108 年度 重上 字第 30 號民事判決</th>\n",
       "      <td>[[[&lt;meta content=\"text/html; charset=utf-8\" ht...</td>\n",
       "    </tr>\n",
       "    <tr>\n",
       "      <th>臺灣高等法院 臺中分院 108 年度 上易 字第 597 號民事判決</th>\n",
       "      <td>[[[&lt;meta content=\"text/html; charset=utf-8\" ht...</td>\n",
       "    </tr>\n",
       "    <tr>\n",
       "      <th>臺灣高等法院 臺中分院 108 年度 續 字第 1 號民事判決</th>\n",
       "      <td>[[[&lt;meta content=\"text/html; charset=utf-8\" ht...</td>\n",
       "    </tr>\n",
       "    <tr>\n",
       "      <th>臺灣臺中地方法院 108 年度 重訴 字第 163 號民事判決</th>\n",
       "      <td>[[[&lt;meta content=\"text/html; charset=utf-8\" ht...</td>\n",
       "    </tr>\n",
       "    <tr>\n",
       "      <th>臺灣臺中地方法院 108 年度 重訴 字第 162 號民事判決</th>\n",
       "      <td>[[[&lt;meta content=\"text/html; charset=utf-8\" ht...</td>\n",
       "    </tr>\n",
       "    <tr>\n",
       "      <th>臺灣彰化地方法院 108 年度 重訴 字第 36 號民事判決</th>\n",
       "      <td>[[[&lt;meta content=\"text/html; charset=utf-8\" ht...</td>\n",
       "    </tr>\n",
       "    <tr>\n",
       "      <th>臺灣臺中地方法院 108 年度 訴 字第 2034 號民事判決</th>\n",
       "      <td>[[[&lt;meta content=\"text/html; charset=utf-8\" ht...</td>\n",
       "    </tr>\n",
       "    <tr>\n",
       "      <th>臺灣高等法院 108 年度 上易 字第 965 號民事判決</th>\n",
       "      <td>[[[&lt;meta content=\"text/html; charset=utf-8\" ht...</td>\n",
       "    </tr>\n",
       "    <tr>\n",
       "      <th>臺灣高等法院 108 年度 上易 字第 853 號民事判決</th>\n",
       "      <td>[[[&lt;meta content=\"text/html; charset=utf-8\" ht...</td>\n",
       "    </tr>\n",
       "    <tr>\n",
       "      <th>臺灣基隆地方法院 108 年度 重訴 字第 58 號民事判決</th>\n",
       "      <td>[[[&lt;meta content=\"text/html; charset=utf-8\" ht...</td>\n",
       "    </tr>\n",
       "    <tr>\n",
       "      <th>臺灣臺中地方法院 108 年度 訴 字第 1973 號民事判決</th>\n",
       "      <td>[[[&lt;meta content=\"text/html; charset=utf-8\" ht...</td>\n",
       "    </tr>\n",
       "    <tr>\n",
       "      <th>臺灣臺北地方法院 108 年度 訴 字第 971 號民事判決</th>\n",
       "      <td>[[[&lt;meta content=\"text/html; charset=utf-8\" ht...</td>\n",
       "    </tr>\n",
       "    <tr>\n",
       "      <th>臺灣新北地方法院 108 年度 簡上 字第 126 號民事判決</th>\n",
       "      <td>[[[&lt;meta content=\"text/html; charset=utf-8\" ht...</td>\n",
       "    </tr>\n",
       "    <tr>\n",
       "      <th>臺灣高等法院 108 年度 上易 字第 921 號民事判決</th>\n",
       "      <td>[[[&lt;meta content=\"text/html; charset=utf-8\" ht...</td>\n",
       "    </tr>\n",
       "    <tr>\n",
       "      <th>臺灣新北地方法院 108 年度 訴 字第 868 號民事判決</th>\n",
       "      <td>[[[&lt;meta content=\"text/html; charset=utf-8\" ht...</td>\n",
       "    </tr>\n",
       "    <tr>\n",
       "      <th>臺灣新北地方法院 108 年度 訴 字第 771 號民事判決</th>\n",
       "      <td>[[[&lt;meta content=\"text/html; charset=utf-8\" ht...</td>\n",
       "    </tr>\n",
       "    <tr>\n",
       "      <th>臺灣臺南地方法院 108 年度 訴 字第 945 號民事判決</th>\n",
       "      <td>[[[&lt;meta content=\"text/html; charset=utf-8\" ht...</td>\n",
       "    </tr>\n",
       "    <tr>\n",
       "      <th>臺灣高雄地方法院 108 年度 簡上 字第 48 號民事判決</th>\n",
       "      <td>[[[&lt;meta content=\"text/html; charset=utf-8\" ht...</td>\n",
       "    </tr>\n",
       "  </tbody>\n",
       "</table>\n",
       "</div>"
      ],
      "text/plain": [
       "                                                                            main_text\n",
       "title                                                                                \n",
       "臺灣新北地方法院 108 年度 訴 字第 471 號民事判決      [[[<meta content=\"text/html; charset=utf-8\" ht...\n",
       "臺灣高等法院 臺中分院 108 年度 上易 字第 24 號民事判決   [[[<meta content=\"text/html; charset=utf-8\" ht...\n",
       "臺灣基隆地方法院 108 年度 訴 字第 321 號民事判決      [[[<meta content=\"text/html; charset=utf-8\" ht...\n",
       "臺灣桃園地方法院 108 年度 重訴 字第 533 號民事判決     [[[<meta content=\"text/html; charset=utf-8\" ht...\n",
       "臺灣臺中地方法院 108 年度 訴 字第 3005 號民事判決     [[[<meta content=\"text/html; charset=utf-8\" ht...\n",
       "臺灣桃園地方法院 108 年度 訴 字第 2440 號民事判決     [[[<meta content=\"text/html; charset=utf-8\" ht...\n",
       "臺灣彰化地方法院 108 年度 訴 字第 1113 號民事判決     [[[<meta content=\"text/html; charset=utf-8\" ht...\n",
       "臺灣臺南地方法院 108 年度 訴 字第 317 號民事判決      [[[<script async=\"\" src=\"https://tpjwebfont2.j...\n",
       "臺灣臺中地方法院 108 年度 訴 字第 3874 號民事判決     [[[<meta content=\"text/html; charset=utf-8\" ht...\n",
       "臺灣新北地方法院 108 年度 訴 字第 2571 號民事判決     [[[<meta content=\"text/html; charset=utf-8\" ht...\n",
       "臺灣臺南地方法院 108 年度 訴 字第 1880 號民事判決     [[[<meta content=\"text/html; charset=utf-8\" ht...\n",
       "臺灣桃園地方法院 108 年度 訴 字第 557 號民事判決      [[[<meta content=\"text/html; charset=utf-8\" ht...\n",
       "臺灣臺南地方法院 108 年度 原訴 字第 2 號民事判決       [[[<meta content=\"text/html; charset=utf-8\" ht...\n",
       "臺灣高等法院 高雄分院 108 年度 重上 字第 30 號民事判決   [[[<meta content=\"text/html; charset=utf-8\" ht...\n",
       "臺灣高等法院 臺中分院 108 年度 上易 字第 597 號民事判決  [[[<meta content=\"text/html; charset=utf-8\" ht...\n",
       "臺灣高等法院 臺中分院 108 年度 續 字第 1 號民事判決     [[[<meta content=\"text/html; charset=utf-8\" ht...\n",
       "臺灣臺中地方法院 108 年度 重訴 字第 163 號民事判決     [[[<meta content=\"text/html; charset=utf-8\" ht...\n",
       "臺灣臺中地方法院 108 年度 重訴 字第 162 號民事判決     [[[<meta content=\"text/html; charset=utf-8\" ht...\n",
       "臺灣彰化地方法院 108 年度 重訴 字第 36 號民事判決      [[[<meta content=\"text/html; charset=utf-8\" ht...\n",
       "臺灣臺中地方法院 108 年度 訴 字第 2034 號民事判決     [[[<meta content=\"text/html; charset=utf-8\" ht...\n",
       "臺灣高等法院 108 年度 上易 字第 965 號民事判決       [[[<meta content=\"text/html; charset=utf-8\" ht...\n",
       "臺灣高等法院 108 年度 上易 字第 853 號民事判決       [[[<meta content=\"text/html; charset=utf-8\" ht...\n",
       "臺灣基隆地方法院 108 年度 重訴 字第 58 號民事判決      [[[<meta content=\"text/html; charset=utf-8\" ht...\n",
       "臺灣臺中地方法院 108 年度 訴 字第 1973 號民事判決     [[[<meta content=\"text/html; charset=utf-8\" ht...\n",
       "臺灣臺北地方法院 108 年度 訴 字第 971 號民事判決      [[[<meta content=\"text/html; charset=utf-8\" ht...\n",
       "臺灣新北地方法院 108 年度 簡上 字第 126 號民事判決     [[[<meta content=\"text/html; charset=utf-8\" ht...\n",
       "臺灣高等法院 108 年度 上易 字第 921 號民事判決       [[[<meta content=\"text/html; charset=utf-8\" ht...\n",
       "臺灣新北地方法院 108 年度 訴 字第 868 號民事判決      [[[<meta content=\"text/html; charset=utf-8\" ht...\n",
       "臺灣新北地方法院 108 年度 訴 字第 771 號民事判決      [[[<meta content=\"text/html; charset=utf-8\" ht...\n",
       "臺灣臺南地方法院 108 年度 訴 字第 945 號民事判決      [[[<meta content=\"text/html; charset=utf-8\" ht...\n",
       "臺灣高雄地方法院 108 年度 簡上 字第 48 號民事判決      [[[<meta content=\"text/html; charset=utf-8\" ht..."
      ]
     },
     "execution_count": 29,
     "metadata": {},
     "output_type": "execute_result"
    }
   ],
   "source": [
    "df[df.index.duplicated()]"
   ]
  },
  {
   "cell_type": "code",
   "execution_count": 30,
   "metadata": {},
   "outputs": [],
   "source": [
    "df = df[~df.index.duplicated()]"
   ]
  },
  {
   "cell_type": "code",
   "execution_count": 31,
   "metadata": {},
   "outputs": [
    {
     "data": {
      "text/plain": [
       "(1451, 1)"
      ]
     },
     "execution_count": 31,
     "metadata": {},
     "output_type": "execute_result"
    }
   ],
   "source": [
    "df.shape"
   ]
  },
  {
   "cell_type": "code",
   "execution_count": 32,
   "metadata": {},
   "outputs": [],
   "source": [
    "df.to_csv('verdict_108.csv')"
   ]
  },
  {
   "cell_type": "code",
   "execution_count": null,
   "metadata": {},
   "outputs": [],
   "source": []
  },
  {
   "cell_type": "code",
   "execution_count": null,
   "metadata": {},
   "outputs": [],
   "source": []
  },
  {
   "cell_type": "code",
   "execution_count": null,
   "metadata": {},
   "outputs": [],
   "source": []
  },
  {
   "cell_type": "code",
   "execution_count": null,
   "metadata": {},
   "outputs": [],
   "source": []
  },
  {
   "cell_type": "code",
   "execution_count": 1,
   "metadata": {},
   "outputs": [],
   "source": [
    "import pandas as pd\n",
    "import numpy as np\n",
    "import random as rd"
   ]
  },
  {
   "cell_type": "code",
   "execution_count": 2,
   "metadata": {},
   "outputs": [],
   "source": [
    "df = pd.read_csv('verdict_110.csv')"
   ]
  },
  {
   "cell_type": "code",
   "execution_count": 6,
   "metadata": {},
   "outputs": [
    {
     "data": {
      "text/plain": [
       "0     臺灣臺中地方法院 110 年度 簡 字第 119 號民事判決\n",
       "1      臺灣臺中地方法院 110 年度 簡 字第 23 號民事判決\n",
       "2      臺灣臺中地方法院 110 年度 簡 字第 73 號民事判決\n",
       "3      臺灣橋頭地方法院 110 年度 簡 字第 48 號民事裁定\n",
       "4      臺灣橋頭地方法院 110 年度 簡 字第 14 號民事判決\n",
       "                   ...              \n",
       "76    臺灣嘉義地方法院 110 年度 全事聲 字第 2 號民事裁定\n",
       "77     臺灣嘉義地方法院 110 年度 聲 字第 29 號民事裁定\n",
       "78      臺灣橋頭地方法院 110 年度 簡 字第 2 號民事判決\n",
       "79       最高法院 110 年度 台上 字第 325 號民事判決\n",
       "80     臺灣新竹地方法院 110 年度 竹簡 字第 8 號民事判決\n",
       "Name: title, Length: 81, dtype: object"
      ]
     },
     "execution_count": 6,
     "metadata": {},
     "output_type": "execute_result"
    }
   ],
   "source": [
    "df.title"
   ]
  },
  {
   "cell_type": "code",
   "execution_count": 5,
   "metadata": {},
   "outputs": [
    {
     "data": {
      "text/plain": [
       "81"
      ]
     },
     "execution_count": 5,
     "metadata": {},
     "output_type": "execute_result"
    }
   ],
   "source": [
    "len(df.title)"
   ]
  },
  {
   "cell_type": "code",
   "execution_count": 8,
   "metadata": {},
   "outputs": [
    {
     "data": {
      "text/plain": [
       "['臺灣臺中地方法院 110 年度 簡 字第 189 號民事判決',\n",
       " '臺灣橋頭地方法院 110 年度 簡 字第 103 號民事判決',\n",
       " '臺灣桃園地方法院 110 年度 簡 字第 18 號民事判決',\n",
       " '臺灣雲林地方法院 110 年度 簡 字第 31 號民事判決',\n",
       " '臺灣橋頭地方法院 110 年度 簡 字第 2 號民事判決',\n",
       " '臺灣臺中地方法院 110 年度 訴 字第 149 號民事判決',\n",
       " '臺灣高等法院 臺中分院 110 年度 抗 字第 106 號民事裁定',\n",
       " '臺灣臺中地方法院 110 年度 簡 字第 23 號民事判決',\n",
       " '臺灣雲林地方法院 110 年度 簡 字第 5 號民事判決',\n",
       " '臺灣臺中地方法院 110 年度 簡 字第 20 號民事判決',\n",
       " '臺灣臺中地方法院 110 年度 簡 字第 148 號民事判決',\n",
       " '最高法院 110 年度 台上 字第 325 號民事判決',\n",
       " '臺灣橋頭地方法院 110 年度 簡 字第 38 號民事判決',\n",
       " '臺灣雲林地方法院 110 年度 簡 字第 31 號民事判決',\n",
       " '臺灣高雄地方法院 110 年度 簡 字第 17 號民事判決',\n",
       " '臺灣雲林地方法院 110 年度 簡 字第 30 號民事判決',\n",
       " '臺灣橋頭地方法院 110 年度 簡 字第 2 號民事判決',\n",
       " '臺灣高等法院 臺中分院 110 年度 抗 字第 106 號民事裁定',\n",
       " '臺灣苗栗地方法院 110 年度 苗簡 字第 61 號民事判決',\n",
       " '臺灣嘉義地方法院 110 年度 簡 字第 36 號民事判決',\n",
       " '臺灣橋頭地方法院 110 年度 簡 字第 2 號民事判決',\n",
       " '臺灣橋頭地方法院 110 年度 簡 字第 103 號民事判決',\n",
       " '臺灣雲林地方法院 110 年度 簡 字第 31 號民事判決',\n",
       " '臺灣高等法院 臺中分院 110 年度 抗 字第 106 號民事裁定',\n",
       " '臺灣桃園地方法院 110 年度 簡 字第 11 號民事判決',\n",
       " '臺灣臺中地方法院 110 年度 訴 字第 149 號民事判決',\n",
       " '臺灣橋頭地方法院 110 年度 簡 字第 16 號民事判決',\n",
       " '臺灣高雄地方法院 110 年度 簡 字第 17 號民事判決',\n",
       " '臺灣臺中地方法院 110 年度 簡 字第 23 號民事判決',\n",
       " '臺灣臺中地方法院 110 年度 簡 字第 21 號民事判決']"
      ]
     },
     "execution_count": 8,
     "metadata": {},
     "output_type": "execute_result"
    }
   ],
   "source": [
    "rd.choices(df.title, weights=None, k=30)"
   ]
  },
  {
   "cell_type": "code",
   "execution_count": 10,
   "metadata": {},
   "outputs": [
    {
     "data": {
      "text/html": [
       "<div>\n",
       "<style scoped>\n",
       "    .dataframe tbody tr th:only-of-type {\n",
       "        vertical-align: middle;\n",
       "    }\n",
       "\n",
       "    .dataframe tbody tr th {\n",
       "        vertical-align: top;\n",
       "    }\n",
       "\n",
       "    .dataframe thead th {\n",
       "        text-align: right;\n",
       "    }\n",
       "</style>\n",
       "<table border=\"1\" class=\"dataframe\">\n",
       "  <thead>\n",
       "    <tr style=\"text-align: right;\">\n",
       "      <th></th>\n",
       "      <th>title</th>\n",
       "      <th>main_text</th>\n",
       "    </tr>\n",
       "  </thead>\n",
       "  <tbody>\n",
       "    <tr>\n",
       "      <th>0</th>\n",
       "      <td>臺灣臺北地方法院 109 年度 重訴 字第 1339 號民事判決</td>\n",
       "      <td>&lt;html lang=\"zh-TW\"&gt;&lt;head&gt;&lt;meta content=\"text/h...</td>\n",
       "    </tr>\n",
       "    <tr>\n",
       "      <th>1</th>\n",
       "      <td>臺灣新北地方法院 109 年度 重訴 字第 355 號民事判決</td>\n",
       "      <td>&lt;html lang=\"zh-TW\"&gt;&lt;head&gt;&lt;meta content=\"text/h...</td>\n",
       "    </tr>\n",
       "    <tr>\n",
       "      <th>2</th>\n",
       "      <td>臺灣臺北地方法院 109 年度 訴 字第 3165 號民事判決</td>\n",
       "      <td>&lt;html lang=\"zh-TW\"&gt;&lt;head&gt;&lt;meta content=\"text/h...</td>\n",
       "    </tr>\n",
       "    <tr>\n",
       "      <th>3</th>\n",
       "      <td>臺灣臺中地方法院 109 年度 簡上附民移簡 字第 19 號民事判決</td>\n",
       "      <td>&lt;html lang=\"zh-TW\"&gt;&lt;head&gt;&lt;meta content=\"text/h...</td>\n",
       "    </tr>\n",
       "    <tr>\n",
       "      <th>4</th>\n",
       "      <td>臺灣桃園地方法院 109 年度 簡上 字第 275 號民事判決</td>\n",
       "      <td>&lt;html lang=\"zh-TW\"&gt;&lt;head&gt;&lt;style type=\"text/css...</td>\n",
       "    </tr>\n",
       "    <tr>\n",
       "      <th>...</th>\n",
       "      <td>...</td>\n",
       "      <td>...</td>\n",
       "    </tr>\n",
       "    <tr>\n",
       "      <th>1012</th>\n",
       "      <td>鳳山簡易庭 109 年度 鳳小 字第 561 號民事判決</td>\n",
       "      <td>&lt;html lang=\"zh-TW\"&gt;&lt;head&gt;&lt;style type=\"text/css...</td>\n",
       "    </tr>\n",
       "    <tr>\n",
       "      <th>1013</th>\n",
       "      <td>竹北簡易庭(含竹東) 109 年度 竹北原簡 字第 3 號民事判決</td>\n",
       "      <td>&lt;html lang=\"zh-TW\"&gt;&lt;head&gt;&lt;meta content=\"text/h...</td>\n",
       "    </tr>\n",
       "    <tr>\n",
       "      <th>1014</th>\n",
       "      <td>竹北簡易庭(含竹東) 109 年度 竹北原簡 字第 3 號刑事判決</td>\n",
       "      <td>&lt;html lang=\"zh-TW\"&gt;&lt;head&gt;&lt;meta content=\"text/h...</td>\n",
       "    </tr>\n",
       "    <tr>\n",
       "      <th>1015</th>\n",
       "      <td>彰化簡易庭 109 年度 彰簡 字第 402 號民事判決</td>\n",
       "      <td>&lt;html lang=\"zh-TW\"&gt;&lt;head&gt;&lt;meta content=\"text/h...</td>\n",
       "    </tr>\n",
       "    <tr>\n",
       "      <th>1016</th>\n",
       "      <td>臺南簡易庭 109 年度 南簡 字第 630 號民事判決</td>\n",
       "      <td>&lt;html lang=\"zh-TW\"&gt;&lt;head&gt;&lt;meta content=\"text/h...</td>\n",
       "    </tr>\n",
       "  </tbody>\n",
       "</table>\n",
       "<p>1017 rows × 2 columns</p>\n",
       "</div>"
      ],
      "text/plain": [
       "                                   title  \\\n",
       "0       臺灣臺北地方法院 109 年度 重訴 字第 1339 號民事判決   \n",
       "1        臺灣新北地方法院 109 年度 重訴 字第 355 號民事判決   \n",
       "2        臺灣臺北地方法院 109 年度 訴 字第 3165 號民事判決   \n",
       "3     臺灣臺中地方法院 109 年度 簡上附民移簡 字第 19 號民事判決   \n",
       "4        臺灣桃園地方法院 109 年度 簡上 字第 275 號民事判決   \n",
       "...                                  ...   \n",
       "1012        鳳山簡易庭 109 年度 鳳小 字第 561 號民事判決   \n",
       "1013   竹北簡易庭(含竹東) 109 年度 竹北原簡 字第 3 號民事判決   \n",
       "1014   竹北簡易庭(含竹東) 109 年度 竹北原簡 字第 3 號刑事判決   \n",
       "1015        彰化簡易庭 109 年度 彰簡 字第 402 號民事判決   \n",
       "1016        臺南簡易庭 109 年度 南簡 字第 630 號民事判決   \n",
       "\n",
       "                                              main_text  \n",
       "0     <html lang=\"zh-TW\"><head><meta content=\"text/h...  \n",
       "1     <html lang=\"zh-TW\"><head><meta content=\"text/h...  \n",
       "2     <html lang=\"zh-TW\"><head><meta content=\"text/h...  \n",
       "3     <html lang=\"zh-TW\"><head><meta content=\"text/h...  \n",
       "4     <html lang=\"zh-TW\"><head><style type=\"text/css...  \n",
       "...                                                 ...  \n",
       "1012  <html lang=\"zh-TW\"><head><style type=\"text/css...  \n",
       "1013  <html lang=\"zh-TW\"><head><meta content=\"text/h...  \n",
       "1014  <html lang=\"zh-TW\"><head><meta content=\"text/h...  \n",
       "1015  <html lang=\"zh-TW\"><head><meta content=\"text/h...  \n",
       "1016  <html lang=\"zh-TW\"><head><meta content=\"text/h...  \n",
       "\n",
       "[1017 rows x 2 columns]"
      ]
     },
     "execution_count": 10,
     "metadata": {},
     "output_type": "execute_result"
    }
   ],
   "source": [
    "df = pd.read_csv('verdict_109.csv')\n",
    "df"
   ]
  },
  {
   "cell_type": "code",
   "execution_count": 11,
   "metadata": {},
   "outputs": [
    {
     "data": {
      "text/plain": [
       "['臺灣士林地方法院 109 年度 訴 字第 993 號民事判決',\n",
       " '臺灣橋頭地方法院 109 年度 訴 字第 510 號民事判決',\n",
       " '臺灣基隆地方法院 109 年度 基小 字第 1741 號民事判決',\n",
       " '臺灣基隆地方法院 109 年度 基簡 字第 895 號民事判決',\n",
       " '臺灣新北地方法院 109 年度 訴 字第 835 號民事判決',\n",
       " '臺灣臺中地方法院 109 年度 重訴 字第 270 號民事判決',\n",
       " '臺灣新北地方法院 109 年度 訴 字第 2075 號民事判決',\n",
       " '臺灣高等法院 臺中分院 109 年度 重上 字第 51 號民事判決',\n",
       " '臺灣新竹地方法院 109 年度 訴 字第 488 號民事判決',\n",
       " '臺灣高等法院 109 年度 抗 字第 823 號民事裁定',\n",
       " '臺灣新北地方法院 109 年度 訴 字第 2060 號民事判決',\n",
       " '臺灣新竹地方法院 109 年度 竹小 字第 121 號民事判決',\n",
       " '臺灣花蓮地方法院 109 年度 訴 字第 101 號民事判決',\n",
       " '臺灣臺南地方法院 109 年度 訴 字第 798 號民事判決',\n",
       " '臺灣新竹地方法院 109 年度 原訴 字第 11 號民事判決',\n",
       " '彰化簡易庭 109 年度 彰簡 字第 402 號民事判決',\n",
       " '臺灣高等法院 臺南分院 109 年度 上國 字第 1 號民事判決',\n",
       " '臺灣桃園地方法院 109 年度 訴 字第 813 號民事判決',\n",
       " '臺灣高雄地方法院 109 年度 原重訴 字第 1 號民事判決',\n",
       " '臺灣新北地方法院 109 年度 訴 字第 1803 號民事判決',\n",
       " '臺灣高等法院 109 年度 重上 字第 170 號民事判決',\n",
       " '臺灣臺中地方法院 109 年度 重訴 字第 18 號民事判決',\n",
       " '臺灣花蓮地方法院 109 年度 訴 字第 43 號民事判決',\n",
       " '臺灣嘉義地方法院 109 年度 訴 字第 588 號民事判決',\n",
       " '臺灣花蓮地方法院 109 年度 訴 字第 172 號民事判決',\n",
       " '臺灣新北地方法院 109 年度 重訴 字第 111 號民事判決',\n",
       " '臺灣新北地方法院 109 年度 訴 字第 286 號民事判決',\n",
       " '臺灣屏東地方法院 109 年度 訴 字第 177 號民事判決',\n",
       " '臺灣新北地方法院 109 年度 重訴 字第 42 號民事判決',\n",
       " '臺灣橋頭地方法院 109 年度 訴 字第 198 號民事判決']"
      ]
     },
     "execution_count": 11,
     "metadata": {},
     "output_type": "execute_result"
    }
   ],
   "source": [
    "rd.choices(df.title, weights=None, k=30)"
   ]
  },
  {
   "cell_type": "code",
   "execution_count": 12,
   "metadata": {},
   "outputs": [
    {
     "data": {
      "text/plain": [
       "['臺灣臺南地方法院 108 年度 訴 字第 1227 號民事判決',\n",
       " '臺灣高等法院 108 年度 上 字第 1508 號民事判決',\n",
       " '臺灣新北地方法院 108 年度 訴 字第 2742 號民事判決',\n",
       " '臺灣臺北地方法院 108 年度 訴 字第 1121 號民事判決',\n",
       " '臺灣高雄地方法院 108 年度 訴 字第 1480 號民事判決',\n",
       " '臺灣新北地方法院 108 年度 訴 字第 1074 號民事判決',\n",
       " '臺灣新北地方法院 108 年度 訴 字第 775 號民事判決',\n",
       " '臺灣高等法院 臺南分院 108 年度 上易 字第 317 號民事判決',\n",
       " '臺灣苗栗地方法院 108 年度 訴 字第 404 號民事判決',\n",
       " '臺灣高等法院 高雄分院 108 年度 訴易 字第 11 號民事判決',\n",
       " '臺灣臺中地方法院 108 年度 訴 字第 1975 號民事判決',\n",
       " '臺灣臺南地方法院 108 年度 訴 字第 1699 號民事判決',\n",
       " '臺灣桃園地方法院 108 年度 重訴 字第 58 號民事判決',\n",
       " '臺灣新北地方法院 108 年度 訴 字第 3549 號民事判決',\n",
       " '臺灣苗栗地方法院 108 年度 訴 字第 404 號民事判決',\n",
       " '臺灣高雄地方法院 108 年度 訴 字第 779 號民事判決',\n",
       " '臺灣苗栗地方法院 108 年度 訴 字第 407 號民事判決',\n",
       " '臺灣桃園地方法院 108 年度 審交易 字第 554 號刑事判決',\n",
       " '臺灣桃園地方法院 108 年度 訴 字第 882 號民事判決',\n",
       " '臺灣桃園地方法院 108 年度 原簡上 字第 2 號民事判決',\n",
       " '臺灣桃園地方法院 108 年度 訴 字第 2363 號民事判決',\n",
       " '臺灣新北地方法院 108 年度 訴 字第 472 號民事判決',\n",
       " '臺灣新竹地方法院 108 年度 訴 字第 824 號民事判決',\n",
       " '臺灣新竹地方法院 108 年度 重訴 字第 24 號民事判決',\n",
       " '臺灣彰化地方法院 108 年度 簡上 字第 54 號民事判決',\n",
       " '臺灣南投地方法院 108 年度 訴 字第 323 號民事判決',\n",
       " '臺灣臺中地方法院 108 年度 訴 字第 593 號民事判決',\n",
       " '臺灣彰化地方法院 108 年度 重訴 字第 119 號民事判決',\n",
       " '臺灣新竹地方法院 108 年度 訴 字第 320 號民事判決',\n",
       " '臺灣高雄地方法院 108 年度 訴 字第 34 號民事判決']"
      ]
     },
     "execution_count": 12,
     "metadata": {},
     "output_type": "execute_result"
    }
   ],
   "source": [
    "df = pd.read_csv('verdict_108.csv')\n",
    "rd.choices(df.title, weights=None, k=30)"
   ]
  },
  {
   "cell_type": "code",
   "execution_count": null,
   "metadata": {},
   "outputs": [],
   "source": []
  },
  {
   "cell_type": "code",
   "execution_count": null,
   "metadata": {},
   "outputs": [],
   "source": []
  }
 ],
 "metadata": {
  "kernelspec": {
   "display_name": "Python 3",
   "language": "python",
   "name": "python3"
  },
  "language_info": {
   "codemirror_mode": {
    "name": "ipython",
    "version": 3
   },
   "file_extension": ".py",
   "mimetype": "text/x-python",
   "name": "python",
   "nbconvert_exporter": "python",
   "pygments_lexer": "ipython3",
   "version": "3.8.5"
  }
 },
 "nbformat": 4,
 "nbformat_minor": 4
}
